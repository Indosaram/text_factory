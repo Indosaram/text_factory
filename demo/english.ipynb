{
 "cells": [
  {
   "cell_type": "code",
   "execution_count": 4,
   "metadata": {},
   "outputs": [
    {
     "data": {
      "text/plain": [
       "(array([[0.        , 0.46735098, 0.        , 0.46735098, 0.        ,\n",
       "         0.46735098, 0.        , 0.35543247, 0.46735098],\n",
       "        [0.        , 0.        , 0.79596054, 0.        , 0.        ,\n",
       "         0.        , 0.        , 0.60534851, 0.        ],\n",
       "        [0.57735027, 0.        , 0.        , 0.        , 0.57735027,\n",
       "         0.        , 0.57735027, 0.        , 0.        ]]),\n",
       " {'you': 7,\n",
       "  'know': 1,\n",
       "  'want': 5,\n",
       "  'your': 8,\n",
       "  'love': 3,\n",
       "  'like': 2,\n",
       "  'what': 6,\n",
       "  'should': 4,\n",
       "  'do': 0})"
      ]
     },
     "execution_count": 4,
     "metadata": {},
     "output_type": "execute_result"
    }
   ],
   "source": [
    "from utils import tf_idf\n",
    "corpus = [\n",
    "    'you know I want your love',\n",
    "    'I like you',\n",
    "    'what should I do ',    \n",
    "]\n",
    "\n",
    "array, index = tf_idf(corpus)\n",
    "array, index"
   ]
  },
  {
   "cell_type": "code",
   "execution_count": null,
   "metadata": {},
   "outputs": [],
   "source": [
    "from preprocessing import EnglishPreprocessor\n",
    "\n"
   ]
  }
 ],
 "metadata": {
  "interpreter": {
   "hash": "31f2aee4e71d21fbe5cf8b01ff0e069b9275f58929596ceb00d14d90e3e16cd6"
  },
  "kernelspec": {
   "display_name": "Python 3.8.2 64-bit",
   "language": "python",
   "name": "python3"
  },
  "language_info": {
   "codemirror_mode": {
    "name": "ipython",
    "version": 3
   },
   "file_extension": ".py",
   "mimetype": "text/x-python",
   "name": "python",
   "nbconvert_exporter": "python",
   "pygments_lexer": "ipython3",
   "version": "3.8.2"
  },
  "orig_nbformat": 4
 },
 "nbformat": 4,
 "nbformat_minor": 2
}
